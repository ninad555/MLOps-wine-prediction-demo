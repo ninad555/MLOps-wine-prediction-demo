{
 "cells": [
  {
   "cell_type": "code",
   "execution_count": 1,
   "id": "92c53204-4e0f-4c68-b4e5-19d02a06f367",
   "metadata": {},
   "outputs": [
    {
     "data": {
      "text/plain": [
       "'C:\\\\Users\\\\kadam\\\\Documents\\\\Data Science\\\\DS\\\\trial_app\\\\notebooks'"
      ]
     },
     "execution_count": 1,
     "metadata": {},
     "output_type": "execute_result"
    }
   ],
   "source": [
    "pwd\n"
   ]
  },
  {
   "cell_type": "code",
   "execution_count": 27,
   "id": "d79b0e47-81bd-47bf-bac6-1435cf9145d6",
   "metadata": {},
   "outputs": [
    {
     "name": "stdout",
     "output_type": "stream",
     "text": [
      "{'creation_timestamp': 1624186916634,\n",
      " 'current_stage': 'None',\n",
      " 'description': '',\n",
      " 'last_updated_timestamp': 1624186916634,\n",
      " 'name': 'ElasticNetWineModel',\n",
      " 'run_id': '1aa1fe1f5e9c40649ffe57a4427baa0e',\n",
      " 'run_link': '',\n",
      " 'source': './artifacts/1/1aa1fe1f5e9c40649ffe57a4427baa0e/artifacts/model',\n",
      " 'status': 'READY',\n",
      " 'status_message': '',\n",
      " 'tags': {},\n",
      " 'user_id': '',\n",
      " 'version': '1'}\n",
      "{'creation_timestamp': 1624187037576,\n",
      " 'current_stage': 'None',\n",
      " 'description': '',\n",
      " 'last_updated_timestamp': 1624187037576,\n",
      " 'name': 'ElasticNetWineModel',\n",
      " 'run_id': '42debdb37ef64c629c644abda0cc0a1a',\n",
      " 'run_link': '',\n",
      " 'source': './artifacts/1/42debdb37ef64c629c644abda0cc0a1a/artifacts/model',\n",
      " 'status': 'READY',\n",
      " 'status_message': '',\n",
      " 'tags': {},\n",
      " 'user_id': '',\n",
      " 'version': '2'}\n",
      "{'creation_timestamp': 1624187123641,\n",
      " 'current_stage': 'None',\n",
      " 'description': '',\n",
      " 'last_updated_timestamp': 1624187123641,\n",
      " 'name': 'ElasticNetWineModel',\n",
      " 'run_id': 'fbc2bd2e7e7f4174bbda0c58a62c9815',\n",
      " 'run_link': '',\n",
      " 'source': './artifacts/1/fbc2bd2e7e7f4174bbda0c58a62c9815/artifacts/model',\n",
      " 'status': 'READY',\n",
      " 'status_message': '',\n",
      " 'tags': {},\n",
      " 'user_id': '',\n",
      " 'version': '3'}\n"
     ]
    }
   ],
   "source": [
    "from src.get_data import  read_params\n",
    "import argparse\n",
    "import mlflow\n",
    "from mlflow.tracking import MlflowClient\n",
    "from  pprint import pprint\n",
    "import joblib\n",
    "import os\n",
    "\n",
    "os.chdir('C:/Users/kadam/Documents/Data Science/DS/trial_app')\n",
    "\n",
    "def log_production_model(config_path):\n",
    "    config = read_params(config_path)\n",
    "\n",
    "    mlflow_config = config[\"mlflow_config\"]\n",
    "\n",
    "    model_name = mlflow_config[\"registered_model_name\"]\n",
    "\n",
    "    remote_server_uri = mlflow_config[\"remote_server_url\"]\n",
    "    mlflow.set_tracking_uri(remote_server_uri)\n",
    "\n",
    "    runs = mlflow.search_runs(experiment_ids = \"1\")\n",
    "    #print(runs)\n",
    "    lowest = runs[\"metrics.mae\"].sort_values(ascending=True)[0]\n",
    "    lowest_run_id = runs[runs[\"metrics.mae\"] == lowest][\"run_id\"][0]\n",
    "\n",
    "    client = MlflowClient()\n",
    "    \n",
    "    for mv in client.search_model_versions(f\"name='{model_name}'\"):\n",
    "        mv = dict(mv)\n",
    "        pprint(mv)\n",
    "\n",
    "#         if mv[\"run_id\"] == lowest_run_id:\n",
    "#             current_version = mv[\"version\"]\n",
    "#             logged_model = mv[\"source\"]\n",
    "#             pprint(mv, indent=4)\n",
    "#             client.transition_model_version_stage(\n",
    "#                 name = model_name,\n",
    "#                 version = current_version,\n",
    "#                 stage = \"Production\"\n",
    "#             )\n",
    "#         else:\n",
    "#             current_version = mv[\"version\"]\n",
    "#             client.transition_model_version_stage(\n",
    "#                 name = model_name,\n",
    "#                 version = current_version,\n",
    "#                 stage = \"Production\"\n",
    "#             )\n",
    "#     loaded_model = mlflow.pyfunc.load_model(logged_model)\n",
    "#     model_path = config[\"webapp_dir_path\"]\n",
    "\n",
    "#     joblib.dump(loaded_model, model_path)\n",
    "\n",
    "log_production_model(\"params.yaml\")\n"
   ]
  },
  {
   "cell_type": "code",
   "execution_count": 19,
   "id": "75eb7c1c-410f-48cc-b4f1-a0399affced9",
   "metadata": {},
   "outputs": [
    {
     "name": "stderr",
     "output_type": "stream",
     "text": [
      "'ls' is not recognized as an internal or external command,\n",
      "operable program or batch file.\n"
     ]
    }
   ],
   "source": [
    "!ls"
   ]
  },
  {
   "cell_type": "code",
   "execution_count": 24,
   "id": "2846abf9-7954-4c66-bd2a-ab3d2bcb4e91",
   "metadata": {},
   "outputs": [
    {
     "name": "stdout",
     "output_type": "stream",
     "text": [
      "{'creation_timestamp': 1624186916634,\n",
      " 'current_stage': 'None',\n",
      " 'description': '',\n",
      " 'last_updated_timestamp': 1624186916634,\n",
      " 'name': 'ElasticNetWineModel',\n",
      " 'run_id': '1aa1fe1f5e9c40649ffe57a4427baa0e',\n",
      " 'run_link': '',\n",
      " 'source': './artifacts/1/1aa1fe1f5e9c40649ffe57a4427baa0e/artifacts/model',\n",
      " 'status': 'READY',\n",
      " 'status_message': '',\n",
      " 'tags': {},\n",
      " 'user_id': '',\n",
      " 'version': '1'}\n",
      "{'creation_timestamp': 1624187037576,\n",
      " 'current_stage': 'None',\n",
      " 'description': '',\n",
      " 'last_updated_timestamp': 1624187037576,\n",
      " 'name': 'ElasticNetWineModel',\n",
      " 'run_id': '42debdb37ef64c629c644abda0cc0a1a',\n",
      " 'run_link': '',\n",
      " 'source': './artifacts/1/42debdb37ef64c629c644abda0cc0a1a/artifacts/model',\n",
      " 'status': 'READY',\n",
      " 'status_message': '',\n",
      " 'tags': {},\n",
      " 'user_id': '',\n",
      " 'version': '2'}\n",
      "{'creation_timestamp': 1624187123641,\n",
      " 'current_stage': 'None',\n",
      " 'description': '',\n",
      " 'last_updated_timestamp': 1624187123641,\n",
      " 'name': 'ElasticNetWineModel',\n",
      " 'run_id': 'fbc2bd2e7e7f4174bbda0c58a62c9815',\n",
      " 'run_link': '',\n",
      " 'source': './artifacts/1/fbc2bd2e7e7f4174bbda0c58a62c9815/artifacts/model',\n",
      " 'status': 'READY',\n",
      " 'status_message': '',\n",
      " 'tags': {},\n",
      " 'user_id': '',\n",
      " 'version': '3'}\n"
     ]
    }
   ],
   "source": [
    "def log_production_model(config_path):\n",
    "    config = read_params(config_path)\n",
    "    \n",
    "    \n",
    "    mlflow_config = config[\"mlflow_config\"] \n",
    "    \n",
    "\n",
    "    model_name = mlflow_config[\"registered_model_name\"]\n",
    "\n",
    "\n",
    "    remote_server_uri = mlflow_config[\"remote_server_url\"]\n",
    "\n",
    "    mlflow.set_tracking_uri(remote_server_uri)\n",
    "    \n",
    "    \n",
    "    runs = mlflow.search_runs(experiment_ids=1)\n",
    "    lowest = runs[\"metrics.mae\"].sort_values(ascending=True)[0]\n",
    "    lowest_run_id = runs[runs[\"metrics.mae\"] == lowest][\"run_id\"][0]\n",
    "    \n",
    "\n",
    "    client = MlflowClient()\n",
    "    for mv in client.search_model_versions(f\"name='{model_name}'\"):\n",
    "        mv = dict(mv)\n",
    "        pprint(mv)\n",
    "        \n",
    "log_production_model(\"params.yaml\")\n"
   ]
  },
  {
   "cell_type": "code",
   "execution_count": null,
   "id": "b4f1fb99",
   "metadata": {},
   "outputs": [],
   "source": []
  }
 ],
 "metadata": {
  "kernelspec": {
   "display_name": "Python 3",
   "language": "python",
   "name": "python3"
  },
  "language_info": {
   "codemirror_mode": {
    "name": "ipython",
    "version": 3
   },
   "file_extension": ".py",
   "mimetype": "text/x-python",
   "name": "python",
   "nbconvert_exporter": "python",
   "pygments_lexer": "ipython3",
   "version": "3.7.10"
  }
 },
 "nbformat": 4,
 "nbformat_minor": 5
}
